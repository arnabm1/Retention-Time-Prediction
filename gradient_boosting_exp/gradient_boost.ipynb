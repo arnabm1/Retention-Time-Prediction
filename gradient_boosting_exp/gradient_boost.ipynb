{
 "cells": [
  {
   "cell_type": "code",
   "execution_count": 25,
   "metadata": {},
   "outputs": [],
   "source": [
    "import pandas as pd\n",
    "from rdkit import Chem\n",
    "from rdkit.Chem import AllChem\n",
    "from sklearn.ensemble import GradientBoostingRegressor\n",
    "from sklearn.model_selection import train_test_split\n",
    "from sklearn.metrics import mean_absolute_error\n",
    "import numpy as np"
   ]
  },
  {
   "cell_type": "code",
   "execution_count": 26,
   "metadata": {},
   "outputs": [],
   "source": [
    "dir = r\"C:\\Users\\arnab\\OneDrive\\Jupyter Notebook\\Retention_Time_Pred\"\n",
    "\n",
    "# Load datasets\n",
    "train_data = pd.read_csv(dir + r'\\train.csv')\n",
    "test_data = pd.read_csv(dir + r'\\test.csv')\n",
    "\n",
    "# Convert SMILES to RDKit Molecule objects\n",
    "train_data['molecule'] = train_data['SMILES'].apply(Chem.MolFromSmiles)\n",
    "test_data['molecule'] = test_data['SMILES'].apply(Chem.MolFromSmiles)"
   ]
  },
  {
   "cell_type": "code",
   "execution_count": 27,
   "metadata": {},
   "outputs": [],
   "source": [
    "# Generate ECFP fingerprints\n",
    "def generate_fingerprint(mol):\n",
    "    return AllChem.GetMorganFingerprintAsBitVect(mol, 2, nBits=1024)\n",
    "\n",
    "train_data['fingerprint'] = train_data['molecule'].apply(generate_fingerprint)\n",
    "test_data['fingerprint'] = test_data['molecule'].apply(generate_fingerprint)"
   ]
  },
  {
   "cell_type": "code",
   "execution_count": 28,
   "metadata": {},
   "outputs": [],
   "source": [
    "# Convert fingerprints to DataFrame\n",
    "def fp_to_array(fp):\n",
    "    arr = np.zeros((1,), dtype=int)\n",
    "    Chem.DataStructs.ConvertToNumpyArray(fp, arr)\n",
    "    return arr\n",
    "\n",
    "X_train_fingerprints = np.array(train_data['fingerprint'].apply(fp_to_array).tolist())\n",
    "X_test_fingerprints = np.array(test_data['fingerprint'].apply(fp_to_array).tolist())\n",
    "\n",
    "X_train = pd.DataFrame(X_train_fingerprints)\n",
    "X_test = pd.DataFrame(X_test_fingerprints)"
   ]
  },
  {
   "cell_type": "code",
   "execution_count": 29,
   "metadata": {},
   "outputs": [],
   "source": [
    "# One-hot encode the 'Lab' column\n",
    "X_train_labs = pd.get_dummies(train_data['Lab'], prefix='lab')\n",
    "X_test_labs = pd.get_dummies(test_data['Lab'], prefix='lab')\n",
    "\n",
    "# Concatenate fingerprints and one-hot encoded labs\n",
    "X_train = pd.concat([X_train, X_train_labs], axis=1)\n",
    "X_test = pd.concat([X_test, X_test_labs], axis=1)\n",
    "\n",
    "X_train.columns = X_train.columns.astype(str)\n",
    "X_test.columns = X_test.columns.astype(str)\n",
    "\n",
    "# Prepare the target variable\n",
    "y_train = train_data['RT']"
   ]
  },
  {
   "cell_type": "code",
   "execution_count": 30,
   "metadata": {},
   "outputs": [],
   "source": [
    "# Initialize and train the Gradient Boosting model\n",
    "# Using default parameters for GradientBoostingRegressor, which can be tuned further\n",
    "model = GradientBoostingRegressor(n_estimators=100, random_state=42)\n",
    "model.fit(X_train, y_train)\n",
    "\n",
    "# Predict on the test set\n",
    "test_data['RT'] = model.predict(X_test)\n",
    "\n",
    "# Save the results to a new CSV file\n",
    "test_data[['SMILES', 'Lab', 'RT']].to_csv('test_predictions.csv', index=False)"
   ]
  }
 ],
 "metadata": {
  "kernelspec": {
   "display_name": "Python 3",
   "language": "python",
   "name": "python3"
  },
  "language_info": {
   "codemirror_mode": {
    "name": "ipython",
    "version": 3
   },
   "file_extension": ".py",
   "mimetype": "text/x-python",
   "name": "python",
   "nbconvert_exporter": "python",
   "pygments_lexer": "ipython3",
   "version": "3.8.10"
  }
 },
 "nbformat": 4,
 "nbformat_minor": 2
}
